{
 "cells": [
  {
   "cell_type": "code",
   "execution_count": 14,
   "metadata": {},
   "outputs": [],
   "source": [
    "import pandas as pd\n",
    "import io\n",
    "import re\n",
    "from os.path import join"
   ]
  },
  {
   "cell_type": "code",
   "execution_count": 15,
   "metadata": {},
   "outputs": [],
   "source": [
    "\n",
    "def get_genome_data(genome_file):\n",
    "    genome_data = pd.read_csv(\n",
    "        genome_file,\n",
    "        comment='#',\n",
    "        sep='\\t',\n",
    "        header=None,\n",
    "        names=['rsid', 'chromosome', 'position', 'genotype']\n",
    "    )\n",
    "    genome_data = genome_data.rename(columns={\n",
    "        'chromosome': 'Chromosome',\n",
    "        'position': 'Position',\n",
    "        'genotype': 'Genotype'\n",
    "    })\n",
    "    return genome_data\n",
    "\n",
    "\n",
    "def _risk_genotype_match(row):\n",
    "    # Extract risk genotypes from the 'Risk Genotypes' column\n",
    "    risk_genotypes = re.findall(\n",
    "        r'\\b\\w+\\b', str(row['Risk Genotypes']))\n",
    "    user_genotype = row['Genotype']\n",
    "    return user_genotype in risk_genotypes\n",
    "\n",
    "\n",
    "def get_risk_genotypes(genome_data):\n",
    "    # Read in snp_mapping\n",
    "    snp_mapping = pd.read_csv(join('data', 'mapping.csv'))\n",
    "    snp_mapping = snp_mapping.drop(columns=['Verified', 'Source'])\n",
    "    # Merge user genome_data with snp_mapping\n",
    "    merged_data = pd.merge(\n",
    "        genome_data, snp_mapping, on='rsid', how='inner')\n",
    "    # Match risk genotypes\n",
    "    filtered_data = merged_data[merged_data.apply(\n",
    "        _risk_genotype_match, axis=1)]\n",
    "    return filtered_data"
   ]
  },
  {
   "cell_type": "code",
   "execution_count": 16,
   "metadata": {},
   "outputs": [
    {
     "name": "stderr",
     "output_type": "stream",
     "text": [
      "C:\\Users\\greys\\AppData\\Local\\Temp\\ipykernel_32392\\4175101056.py:2: DtypeWarning: Columns (1) have mixed types. Specify dtype option on import or set low_memory=False.\n",
      "  genome_data = pd.read_csv(\n"
     ]
    },
    {
     "data": {
      "text/html": [
       "<div>\n",
       "<style scoped>\n",
       "    .dataframe tbody tr th:only-of-type {\n",
       "        vertical-align: middle;\n",
       "    }\n",
       "\n",
       "    .dataframe tbody tr th {\n",
       "        vertical-align: top;\n",
       "    }\n",
       "\n",
       "    .dataframe thead th {\n",
       "        text-align: right;\n",
       "    }\n",
       "</style>\n",
       "<table border=\"1\" class=\"dataframe\">\n",
       "  <thead>\n",
       "    <tr style=\"text-align: right;\">\n",
       "      <th></th>\n",
       "      <th>rsid</th>\n",
       "      <th>Chromosome</th>\n",
       "      <th>Position</th>\n",
       "      <th>Genotype</th>\n",
       "      <th>Gene</th>\n",
       "      <th>Normal Genotypes</th>\n",
       "      <th>Risk Genotypes</th>\n",
       "      <th>Risk Description</th>\n",
       "      <th>Function</th>\n",
       "      <th>Affected Ingredients</th>\n",
       "      <th>Alternative Ingredients</th>\n",
       "    </tr>\n",
       "  </thead>\n",
       "  <tbody>\n",
       "    <tr>\n",
       "      <th>7</th>\n",
       "      <td>rs1126809</td>\n",
       "      <td>11</td>\n",
       "      <td>88657609</td>\n",
       "      <td>GG</td>\n",
       "      <td>TYR</td>\n",
       "      <td>AA</td>\n",
       "      <td>GG,AG,GA</td>\n",
       "      <td>Altered melanin production, potentially leadin...</td>\n",
       "      <td>Melanin production</td>\n",
       "      <td>Hydroquinone (skin-lightening agents)</td>\n",
       "      <td>Tranexamic acid, licorice root extract, alpha ...</td>\n",
       "    </tr>\n",
       "    <tr>\n",
       "      <th>13</th>\n",
       "      <td>rs3810280</td>\n",
       "      <td>19</td>\n",
       "      <td>55912749</td>\n",
       "      <td>CC</td>\n",
       "      <td>CRB1</td>\n",
       "      <td>TT</td>\n",
       "      <td>CT,TC,CC</td>\n",
       "      <td>Increased susceptibility to oxidative stress, ...</td>\n",
       "      <td>Cellular structure and integrity</td>\n",
       "      <td>Harsh exfoliants, pro-oxidant treatments</td>\n",
       "      <td>Antioxidants (vitamin C, E), gentle skincare r...</td>\n",
       "    </tr>\n",
       "  </tbody>\n",
       "</table>\n",
       "</div>"
      ],
      "text/plain": [
       "         rsid Chromosome  Position Genotype  Gene Normal Genotypes  \\\n",
       "7   rs1126809         11  88657609       GG   TYR               AA   \n",
       "13  rs3810280         19  55912749       CC  CRB1               TT   \n",
       "\n",
       "   Risk Genotypes                                   Risk Description  \\\n",
       "7        GG,AG,GA  Altered melanin production, potentially leadin...   \n",
       "13       CT,TC,CC  Increased susceptibility to oxidative stress, ...   \n",
       "\n",
       "                            Function  \\\n",
       "7                 Melanin production   \n",
       "13  Cellular structure and integrity   \n",
       "\n",
       "                        Affected Ingredients  \\\n",
       "7      Hydroquinone (skin-lightening agents)   \n",
       "13  Harsh exfoliants, pro-oxidant treatments   \n",
       "\n",
       "                              Alternative Ingredients  \n",
       "7   Tranexamic acid, licorice root extract, alpha ...  \n",
       "13  Antioxidants (vitamin C, E), gentle skincare r...  "
      ]
     },
     "execution_count": 16,
     "metadata": {},
     "output_type": "execute_result"
    }
   ],
   "source": [
    "genome_data = get_genome_data('23andMe.txt')\n",
    "risk_genome_data = get_risk_genotypes(genome_data)\n",
    "risk_genome_data"
   ]
  },
  {
   "cell_type": "code",
   "execution_count": null,
   "metadata": {},
   "outputs": [],
   "source": []
  }
 ],
 "metadata": {
  "kernelspec": {
   "display_name": ".venv",
   "language": "python",
   "name": "python3"
  },
  "language_info": {
   "codemirror_mode": {
    "name": "ipython",
    "version": 3
   },
   "file_extension": ".py",
   "mimetype": "text/x-python",
   "name": "python",
   "nbconvert_exporter": "python",
   "pygments_lexer": "ipython3",
   "version": "3.11.5"
  }
 },
 "nbformat": 4,
 "nbformat_minor": 2
}
